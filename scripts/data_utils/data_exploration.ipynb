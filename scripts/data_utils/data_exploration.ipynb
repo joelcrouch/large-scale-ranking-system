{
 "cells": [
  {
   "cell_type": "code",
   "execution_count": 2,
   "id": "19bb21f9-e508-4d67-baeb-e92287501c6f",
   "metadata": {
    "scrolled": true
   },
   "outputs": [
    {
     "data": {
      "text/html": [
       "<div>\n",
       "<style scoped>\n",
       "    .dataframe tbody tr th:only-of-type {\n",
       "        vertical-align: middle;\n",
       "    }\n",
       "\n",
       "    .dataframe tbody tr th {\n",
       "        vertical-align: top;\n",
       "    }\n",
       "\n",
       "    .dataframe thead th {\n",
       "        text-align: right;\n",
       "    }\n",
       "</style>\n",
       "<table border=\"1\" class=\"dataframe\">\n",
       "  <thead>\n",
       "    <tr style=\"text-align: right;\">\n",
       "      <th></th>\n",
       "      <th>userId</th>\n",
       "      <th>itemId</th>\n",
       "      <th>rating</th>\n",
       "      <th>timestamp</th>\n",
       "    </tr>\n",
       "  </thead>\n",
       "  <tbody>\n",
       "    <tr>\n",
       "      <th>0</th>\n",
       "      <td>AGKHLEW2SOWHNMFQIJGBECAF7INQ</td>\n",
       "      <td>B00YQ6X8EO</td>\n",
       "      <td>5.0</td>\n",
       "      <td>1.588688e+09</td>\n",
       "    </tr>\n",
       "    <tr>\n",
       "      <th>1</th>\n",
       "      <td>AGKHLEW2SOWHNMFQIJGBECAF7INQ</td>\n",
       "      <td>B081TJ8YS3</td>\n",
       "      <td>4.0</td>\n",
       "      <td>1.588616e+09</td>\n",
       "    </tr>\n",
       "    <tr>\n",
       "      <th>2</th>\n",
       "      <td>AE74DYR3QUGVPZJ3P7RFWBGIX7XQ</td>\n",
       "      <td>B07PNNCSP9</td>\n",
       "      <td>5.0</td>\n",
       "      <td>1.589665e+09</td>\n",
       "    </tr>\n",
       "    <tr>\n",
       "      <th>3</th>\n",
       "      <td>AFQLNQNQYFWQZPJQZS6V3NZU4QBQ</td>\n",
       "      <td>B09JS339BZ</td>\n",
       "      <td>1.0</td>\n",
       "      <td>1.643394e+09</td>\n",
       "    </tr>\n",
       "    <tr>\n",
       "      <th>4</th>\n",
       "      <td>AFQLNQNQYFWQZPJQZS6V3NZU4QBQ</td>\n",
       "      <td>B08BZ63GMJ</td>\n",
       "      <td>5.0</td>\n",
       "      <td>1.609323e+09</td>\n",
       "    </tr>\n",
       "  </tbody>\n",
       "</table>\n",
       "</div>"
      ],
      "text/plain": [
       "                         userId      itemId  rating     timestamp\n",
       "0  AGKHLEW2SOWHNMFQIJGBECAF7INQ  B00YQ6X8EO     5.0  1.588688e+09\n",
       "1  AGKHLEW2SOWHNMFQIJGBECAF7INQ  B081TJ8YS3     4.0  1.588616e+09\n",
       "2  AE74DYR3QUGVPZJ3P7RFWBGIX7XQ  B07PNNCSP9     5.0  1.589665e+09\n",
       "3  AFQLNQNQYFWQZPJQZS6V3NZU4QBQ  B09JS339BZ     1.0  1.643394e+09\n",
       "4  AFQLNQNQYFWQZPJQZS6V3NZU4QBQ  B08BZ63GMJ     5.0  1.609323e+09"
      ]
     },
     "execution_count": 2,
     "metadata": {},
     "output_type": "execute_result"
    }
   ],
   "source": [
    "import pandas as pd \n",
    "ratings_file ='../../data/processed/amazon_all_beauty/ratings.csv'\n",
    "df = pd.read_csv(ratings_file)\n",
    "df.head()\n",
    "\n"
   ]
  },
  {
   "cell_type": "code",
   "execution_count": 3,
   "id": "68bbb30b-ad09-4c8f-9499-3bdd3e4ba880",
   "metadata": {},
   "outputs": [
    {
     "data": {
      "text/plain": [
       "userId       0\n",
       "itemId       0\n",
       "rating       0\n",
       "timestamp    0\n",
       "dtype: int64"
      ]
     },
     "execution_count": 3,
     "metadata": {},
     "output_type": "execute_result"
    }
   ],
   "source": [
    "df.isnull().sum()"
   ]
  },
  {
   "cell_type": "code",
   "execution_count": 4,
   "id": "0a2ac485-d50a-4b9a-ae44-693d3b87314b",
   "metadata": {
    "scrolled": true
   },
   "outputs": [
    {
     "data": {
      "text/html": [
       "<div>\n",
       "<style scoped>\n",
       "    .dataframe tbody tr th:only-of-type {\n",
       "        vertical-align: middle;\n",
       "    }\n",
       "\n",
       "    .dataframe tbody tr th {\n",
       "        vertical-align: top;\n",
       "    }\n",
       "\n",
       "    .dataframe thead th {\n",
       "        text-align: right;\n",
       "    }\n",
       "</style>\n",
       "<table border=\"1\" class=\"dataframe\">\n",
       "  <thead>\n",
       "    <tr style=\"text-align: right;\">\n",
       "      <th></th>\n",
       "      <th>rating</th>\n",
       "      <th>timestamp</th>\n",
       "    </tr>\n",
       "  </thead>\n",
       "  <tbody>\n",
       "    <tr>\n",
       "      <th>count</th>\n",
       "      <td>694252.000000</td>\n",
       "      <td>6.942520e+05</td>\n",
       "    </tr>\n",
       "    <tr>\n",
       "      <th>mean</th>\n",
       "      <td>3.960892</td>\n",
       "      <td>1.554762e+09</td>\n",
       "    </tr>\n",
       "    <tr>\n",
       "      <th>std</th>\n",
       "      <td>1.493950</td>\n",
       "      <td>8.004244e+07</td>\n",
       "    </tr>\n",
       "    <tr>\n",
       "      <th>min</th>\n",
       "      <td>1.000000</td>\n",
       "      <td>9.730527e+08</td>\n",
       "    </tr>\n",
       "    <tr>\n",
       "      <th>25%</th>\n",
       "      <td>3.000000</td>\n",
       "      <td>1.501612e+09</td>\n",
       "    </tr>\n",
       "    <tr>\n",
       "      <th>50%</th>\n",
       "      <td>5.000000</td>\n",
       "      <td>1.571538e+09</td>\n",
       "    </tr>\n",
       "    <tr>\n",
       "      <th>75%</th>\n",
       "      <td>5.000000</td>\n",
       "      <td>1.614636e+09</td>\n",
       "    </tr>\n",
       "    <tr>\n",
       "      <th>max</th>\n",
       "      <td>5.000000</td>\n",
       "      <td>1.694220e+09</td>\n",
       "    </tr>\n",
       "  </tbody>\n",
       "</table>\n",
       "</div>"
      ],
      "text/plain": [
       "              rating     timestamp\n",
       "count  694252.000000  6.942520e+05\n",
       "mean        3.960892  1.554762e+09\n",
       "std         1.493950  8.004244e+07\n",
       "min         1.000000  9.730527e+08\n",
       "25%         3.000000  1.501612e+09\n",
       "50%         5.000000  1.571538e+09\n",
       "75%         5.000000  1.614636e+09\n",
       "max         5.000000  1.694220e+09"
      ]
     },
     "execution_count": 4,
     "metadata": {},
     "output_type": "execute_result"
    }
   ],
   "source": [
    "df.describe()\n"
   ]
  },
  {
   "cell_type": "code",
   "execution_count": 5,
   "id": "ed8d7400-aca0-4200-b0d7-9f336a71b53c",
   "metadata": {
    "scrolled": true
   },
   "outputs": [
    {
     "name": "stdout",
     "output_type": "stream",
     "text": [
      "<class 'pandas.core.frame.DataFrame'>\n",
      "RangeIndex: 694252 entries, 0 to 694251\n",
      "Data columns (total 4 columns):\n",
      " #   Column     Non-Null Count   Dtype  \n",
      "---  ------     --------------   -----  \n",
      " 0   userId     694252 non-null  object \n",
      " 1   itemId     694252 non-null  object \n",
      " 2   rating     694252 non-null  float64\n",
      " 3   timestamp  694252 non-null  float64\n",
      "dtypes: float64(2), object(2)\n",
      "memory usage: 21.2+ MB\n"
     ]
    }
   ],
   "source": [
    "df.info()\n"
   ]
  },
  {
   "cell_type": "code",
   "execution_count": 6,
   "id": "80bd1591-a8ce-4761-a18a-69cb22d79b8c",
   "metadata": {},
   "outputs": [
    {
     "data": {
      "image/png": "[encoded data removed]",
      "text/plain": [
       "<Figure size 640x480 with 1 Axes>"
      ]
     },
     "metadata": {},
     "output_type": "display_data"
    }
   ],
   "source": [
    "import matplotlib.pyplot as plt \n",
    "df['rating'].hist(bins=5)\n",
    "plt.title('Distribution of Ratings')\n",
    "plt.xlabel('Rating')\n",
    "plt.ylabel('Count')\n",
    "plt.show()"
   ]
  },
  {
   "cell_type": "code",
   "execution_count": 7,
   "id": "e7d34720-92b7-46c8-b8a2-986061256ea6",
   "metadata": {},
   "outputs": [
    {
     "name": "stdout",
     "output_type": "stream",
     "text": [
      "Top 10 users by number of ratings:\n",
      "userId\n",
      "AG73BVBKUOH22USSFJA5ZWL7AKXA      165\n",
      "AEZP6Z2C5AVQDZAJECQYZWQRNG3Q      146\n",
      "AEMP3A7IKW37CMWFXNKXWW6HGJHA_1    115\n",
      "AGZUJTI7A3JFKB4FP5JOH6NVAJIQ_1     87\n",
      "AFDYIK3FNPY2JFBQYUWC6GSBMIRQ_2     83\n",
      "AFXF3EGQTQDXMRLDWFU7UBFQZB7Q       81\n",
      "AEJU3Z6HDAERETMYI2CXBQVPPDFA       79\n",
      "AHY2TURQPNIDXZGH2CMQLZ343YMQ       69\n",
      "AEOK4TQIKGO23SJKZ6PW4FETNNDA_1     68\n",
      "AEAXAJACFMXIAAH4WOHRMXPSZWFA       65\n",
      "Name: count, dtype: int64\n",
      "\\nSummary of user rating counts:\n",
      "count    631986.000000\n",
      "mean          1.098524\n",
      "std           0.728334\n",
      "min           1.000000\n",
      "25%           1.000000\n",
      "50%           1.000000\n",
      "75%           1.000000\n",
      "max         165.000000\n",
      "Name: count, dtype: float64\n"
     ]
    }
   ],
   "source": [
    "user_rating_counts = df['userId'].value_counts()\n",
    "# Display the top 10 users by number of ratings\n",
    "print(\"Top 10 users by number of ratings:\")\n",
    "print(user_rating_counts.head(10))\n",
    "# Get a statistical summary of the user rating counts\n",
    "print(\"\\\\nSummary of user rating counts:\")\n",
    "print(user_rating_counts.describe())\n"
   ]
  },
  {
   "cell_type": "code",
   "execution_count": 8,
   "id": "24f3b62d-80af-4e2b-85cb-8d9445729c30",
   "metadata": {},
   "outputs": [
    {
     "name": "stdout",
     "output_type": "stream",
     "text": [
      "Top 10 items by number of ratings:\n",
      "itemId\n",
      "B007IAE5WY    1952\n",
      "B00EEN2HCS    1726\n",
      "B07C533XCW    1500\n",
      "B00R1TAN7I    1362\n",
      "B08L5KN7X4    1328\n",
      "B019GBG0IE    1319\n",
      "B0719KWG8H    1160\n",
      "B0092MCQZ4    1123\n",
      "B0107QYW14    1105\n",
      "B0070Z7KME     923\n",
      "Name: count, dtype: int64\n",
      "\\nSummary of item rating counts:\n",
      "count    115709.000000\n",
      "mean          5.999983\n",
      "std          23.169142\n",
      "min           1.000000\n",
      "25%           1.000000\n",
      "50%           2.000000\n",
      "75%           4.000000\n",
      "max        1952.000000\n",
      "Name: count, dtype: float64\n"
     ]
    }
   ],
   "source": [
    "item_rating_counts = df['itemId'].value_counts()\n",
    "# Display the top 10 items by number of ratings\n",
    "print(\"Top 10 items by number of ratings:\")\n",
    "print(item_rating_counts.head(10))\n",
    "# Get a statistical summary of the item rating counts\n",
    "print(\"\\\\nSummary of item rating counts:\")\n",
    "print(item_rating_counts.describe())\n"
   ]
  },
  {
   "cell_type": "code",
   "execution_count": 9,
   "id": "f7d65e58-7a9b-403a-9c22-025641fa57ce",
   "metadata": {},
   "outputs": [
    {
     "name": "stdout",
     "output_type": "stream",
     "text": [
      "count    631986.000000\n",
      "mean          1.098524\n",
      "std           0.728334\n",
      "min           1.000000\n",
      "25%           1.000000\n",
      "50%           1.000000\n",
      "75%           1.000000\n",
      "max         165.000000\n",
      "Name: count, dtype: float64\n"
     ]
    }
   ],
   "source": [
    "user_rating_counts = df['userId'].value_counts()\n",
    "print(user_rating_counts.describe())"
   ]
  },
  {
   "cell_type": "code",
   "execution_count": 10,
   "id": "39af726b-f543-43d6-bb33-75000efbac07",
   "metadata": {},
   "outputs": [
    {
     "name": "stdout",
     "output_type": "stream",
     "text": [
      "count    115709.000000\n",
      "mean          5.999983\n",
      "std          23.169142\n",
      "min           1.000000\n",
      "25%           1.000000\n",
      "50%           2.000000\n",
      "75%           4.000000\n",
      "max        1952.000000\n",
      "Name: count, dtype: float64\n"
     ]
    }
   ],
   "source": [
    "item_rating_counts = df['itemId'].value_counts()\n",
    "print(item_rating_counts.describe())\n",
    "\n"
   ]
  },
  {
   "cell_type": "code",
   "execution_count": 12,
   "id": "dd15286e-cfdb-4dd2-be98-f8fa6db697ef",
   "metadata": {},
   "outputs": [
    {
     "name": "stdout",
     "output_type": "stream",
     "text": [
      "Original df shape: (694252, 4)\n",
      "shape after filtering users: (14008, 4)\n",
      "shape after filtereing items: (5345, 4)\n"
     ]
    }
   ],
   "source": [
    "min_user_ratings=5\n",
    "user_counts=df['userId'].value_counts()\n",
    "active_users=user_counts[user_counts >= min_user_ratings].index\n",
    "df_filtered_users=df[df['userId'].isin(active_users)]\n",
    "\n",
    "min_item_ratings=5\n",
    "item_counts=df_filtered_users['itemId'].value_counts()\n",
    "popular_items=item_counts[item_counts >= min_item_ratings].index\n",
    "df_final=df_filtered_users[df_filtered_users['itemId'].isin(popular_items)]\n",
    "print(\"Original df shape:\", df.shape) \n",
    "print(\"shape after filtering users:\", df_filtered_users.shape)\n",
    "print(\"shape after filtereing items:\", df_final.shape)"
   ]
  },
  {
   "cell_type": "code",
   "execution_count": 13,
   "id": "072d617a-1ffc-4d81-9f38-b1ba1d371651",
   "metadata": {},
   "outputs": [
    {
     "name": "stdout",
     "output_type": "stream",
     "text": [
      "training set shape: (4276, 4)\n",
      "test set shaape: (1069, 4)\n"
     ]
    }
   ],
   "source": [
    "from sklearn.model_selection import train_test_split\n",
    "train_df, test_df = train_test_split(df_final, test_size=0.2, random_state=42)\n",
    "print(\"training set shape:\", train_df.shape)\n",
    "print(\"test set shaape:\", test_df.shape)"
   ]
  },
  {
   "cell_type": "code",
   "execution_count": 15,
   "id": "90165c83-3e03-4890-a552-7148c17406e3",
   "metadata": {},
   "outputs": [
    {
     "name": "stderr",
     "output_type": "stream",
     "text": [
      "/mnt/c/Users/Joel Crouch/dev/large-scale-ranking-system/venv/lib/python3.12/site-packages/implicit/utils.py:164: ParameterWarning: Method expects CSR input, and was passed coo_matrix instead. Converting to CSR took 0.0012264251708984375 seconds\n",
      "  warnings.warn(\n"
     ]
    },
    {
     "data": {
      "application/vnd.jupyter.widget-view+json": {
       "model_id": "ee04d715541440cf8127f636d790a77e",
       "version_major": 2,
       "version_minor": 0
      },
      "text/plain": [
       "  0%|          | 0/15 [00:00<?, ?it/s]"
      ]
     },
     "metadata": {},
     "output_type": "display_data"
    },
    {
     "name": "stdout",
     "output_type": "stream",
     "text": [
      "Model training complete!\n"
     ]
    }
   ],
   "source": [
    "import implicit\n",
    "from scipy.sparse import coo_matrix\n",
    "import pandas as pd\n",
    " # Assuming 'train_df' is your training DataFrame\n",
    "train_df['userId_cat'] = train_df['userId'].astype('category').cat.codes\n",
    "train_df['itemId_cat'] = train_df['itemId'].astype('category').cat.codes # Corrected typo here\n",
    "\n",
    " # Corrected typo in the next line from userID_cat to userId_cat\n",
    "user_item_matrix = coo_matrix((train_df['rating'].astype(float), (train_df['userId_cat'],\n",
    "      train_df['itemId_cat'])))\n",
    "\n",
    "model = implicit.als.AlternatingLeastSquares(factors=50)\n",
    "model.fit(user_item_matrix)\n",
    "\n",
    "print(\"Model training complete!\")"
   ]
  },
  {
   "cell_type": "code",
   "execution_count": 16,
   "id": "d56188aa-d00f-4c85-8920-2ea60bb85554",
   "metadata": {},
   "outputs": [
    {
     "data": {
      "application/vnd.jupyter.widget-view+json": {
       "model_id": "780cc8652e57480da0a840421838fd14",
       "version_major": 2,
       "version_minor": 0
      },
      "text/plain": [
       "  0%|          | 0/476 [00:00<?, ?it/s]"
      ]
     },
     "metadata": {},
     "output_type": "display_data"
    },
    {
     "name": "stdout",
     "output_type": "stream",
     "text": [
      "Mean Precision@10: 0.0631163708086785\n"
     ]
    }
   ],
   "source": [
    "\n",
    "from implicit.evaluation import precision_at_k\n",
    "from scipy.sparse import coo_matrix\n",
    "import pandas as pd\n",
    "# Create a dictionary for user and item mappings from the training data\n",
    "user_map = dict(zip(train_df['userId'], train_df['userId_cat']))\n",
    "item_map = dict(zip(train_df['itemId'], train_df['itemId_cat']))\n",
    "\n",
    "# Map the test data using the training data mappings\n",
    "test_df['userId_cat'] = test_df['userId'].map(user_map)\n",
    "test_df['itemId_cat'] = test_df['itemId'].map(item_map)\n",
    "\n",
    " # Remove users/items from the test set that are not in the training set\n",
    "test_df_filtered = test_df.dropna(subset=['userId_cat', 'itemId_cat'])\n",
    " # Create the test user-item matrix\n",
    "  # Ensure the shape of the test matrix is the same as the training matrix\n",
    "test_user_item_matrix = coo_matrix((test_df_filtered['rating'].astype(float),\n",
    "                                    (test_df_filtered['userId_cat'].astype(int),\n",
    "                                    test_df_filtered['itemId_cat'].astype(int))),\n",
    "                                    shape=user_item_matrix.shape)\n",
    "\n",
    "# Convert matrices to CSR format, which is required by the evaluation function\n",
    "train_csr = user_item_matrix.tocsr()\n",
    "test_csr = test_user_item_matrix.tocsr()\n",
    "\n",
    "# Calculate Precision@10\n",
    "# This function calculates the precision at K for each user and returns the mean\n",
    "p_at_k = precision_at_k(model, train_user_items=train_csr, test_user_items=test_csr, K=10)\n",
    "\n",
    "print(f\"Mean Precision@10: {p_at_k}\")"
   ]
  },
  {
   "cell_type": "code",
   "execution_count": 18,
   "id": "764fc5d3-129a-4931-93f2-ce908c459c80",
   "metadata": {},
   "outputs": [
    {
     "name": "stdout",
     "output_type": "stream",
     "text": [
      "model saved to saved_models/al_mode_v1.joblib\n"
     ]
    }
   ],
   "source": [
    "import joblib \n",
    "import os\n",
    "model_dir='saved_models'\n",
    "if not os.path.exists(model_dir):\n",
    "    os.makedirs(model_dir)\n",
    "\n",
    "model_filename=os.path.join(model_dir, 'al_mode_v1.joblib')\n",
    "joblib.dump(model, model_filename)\n",
    "print(f\"model saved to {model_filename}\")\n"
   ]
  },
  {
   "cell_type": "code",
   "execution_count": 19,
   "id": "96230e4f-c85c-435c-8ccb-d4e7f56ffa7f",
   "metadata": {},
   "outputs": [
    {
     "name": "stdout",
     "output_type": "stream",
     "text": [
      "Inspecting recommendations for user: AHPG65LKS3QKRWDUWAKZNLEK5RZQ\n",
      "\n",
      "--- User History ---\n",
      "Items in training set (20): ['B0977LVHF8', 'B08DNCR582', 'B09GGVH7RQ', 'B08W2HG4BD', 'B07PBWVV5K', 'B08PVH18Z6', 'B08QVJ4NVD', 'B089D16BWJ', 'B08ZS8RLM8', 'B08DK5D9J5', 'B0994HWXVV', 'B08HDG9F44', 'B08K2V6WGH', 'B095C1WF44', 'B08YZ3854D', 'B086Q2J3F2', 'B087J3H22J', 'B08MT8L5ZL', 'B08NTD1NM1', 'B08GMC48QF']\n",
      "Items in test set (9): ['B08VNP9MKF', 'B07T4LKC4D', 'B08N5NDVGH', 'B0895XPZNT', 'B09C5NH4NW', 'B09HGVRZCS', 'B086N2SY91', 'B07YV9J2YZ', 'B084WP4XS8']\n",
      "---------------------\n",
      "\n",
      "--- Top 10 Recommendations ---\n",
      "  1. B086N2SY91 (Score: 0.6910)\n",
      "  2. B09C5NH4NW (Score: 0.6732)\n",
      "  3. B09HGVRZCS (Score: 0.6379)\n",
      "  4. B08VNP9MKF (Score: 0.6222)\n",
      "  5. B07T4LKC4D (Score: 0.5748)\n",
      "  6. B07YV9J2YZ (Score: 0.5076)\n",
      "  7. B07P88S8SV (Score: 0.3708)\n",
      "  8. B09LWV3HH2 (Score: 0.3640)\n",
      "  9. B08CXPSYWX (Score: 0.3503)\n",
      "  10. B08LZ6W8RF (Score: 0.3400)\n",
      "--------------------------------\n",
      "\n",
      "--- Hits in Test Set (6) ---\n",
      "  - B09HGVRZCS\n",
      "  - B086N2SY91\n",
      "  - B07T4LKC4D\n",
      "  - B08VNP9MKF\n",
      "  - B09C5NH4NW\n",
      "  - B07YV9J2YZ\n",
      "---------------------------\n",
      "\n",
      "\n"
     ]
    }
   ],
   "source": [
    "import pandas as pd\n",
    "\n",
    "# Create mappings from categorical codes back to original IDs\n",
    "# This helps in interpreting the model's output\n",
    "user_cat_to_id = dict(zip(train_df['userId_cat'], train_df['userId']))\n",
    "item_cat_to_id = dict(zip(train_df['itemId_cat'], train_df['itemId']))\n",
    "\n",
    "def inspect_recommendations_for_user(user_id, num_recs=10):\n",
    "    \"\"\"\n",
    "    Inspects the recommendations for a given user ID.\n",
    "    \"\"\"\n",
    "    print(f\"Inspecting recommendations for user: {user_id}\\n\")\n",
    "\n",
    "    # --- Get user's history ---\n",
    "    train_items = train_df[train_df['userId'] == user_id]['itemId'].tolist()\n",
    "    test_items = test_df[test_df['userId'] == user_id]['itemId'].tolist()\n",
    "\n",
    "    print(\"--- User History ---\")\n",
    "    print(f\"Items in training set ({len(train_items)}): {train_items}\")\n",
    "    print(f\"Items in test set ({len(test_items)}): {test_items}\")\n",
    "    print(\"---------------------\\n\")\n",
    "\n",
    "\n",
    "    # --- Get Recommendations ---\n",
    "    # Get the user's categorical code\n",
    "    try:\n",
    "        user_cat = train_df[train_df['userId'] == user_id]['userId_cat'].iloc[0]\n",
    "    except IndexError:\n",
    "        print(\"User not found in the training set.\")\n",
    "        return\n",
    "\n",
    "    # Get top N recommendations from the model\n",
    "    train_user_item_matrix_csr = user_item_matrix.tocsr()\n",
    "    recommended_item_cats, scores = model.recommend(user_cat, train_user_item_matrix_csr[user_cat], N=num_recs)\n",
    "\n",
    "    # Convert recommended item codes to original IDs\n",
    "    recommended_item_ids = [item_cat_to_id[i] for i in recommended_item_cats]\n",
    "\n",
    "    print(f\"--- Top {num_recs} Recommendations ---\")\n",
    "    for i, item_id in enumerate(recommended_item_ids):\n",
    "        print(f\"  {i+1}. {item_id} (Score: {scores[i]:.4f})\")\n",
    "    print(\"--------------------------------\\n\")\n",
    "\n",
    "\n",
    "    # --- Check for Hits ---\n",
    "    hits = set(recommended_item_ids) & set(test_items)\n",
    "    print(f\"--- Hits in Test Set ({len(hits)}) ---\")\n",
    "    for item in hits:\n",
    "        print(f\"  - {item}\")\n",
    "    print(\"---------------------------\\n\\n\")\n",
    "\n",
    "\n",
    "# --- Example Usage ---\n",
    "# Get a random user from the test set to inspect\n",
    "random_user_id = test_df['userId'].sample(1).iloc[0]\n",
    "\n",
    "# Get recommendations for the random user\n",
    "inspect_recommendations_for_user(random_user_id)"
   ]
  },
  {
   "cell_type": "code",
   "execution_count": 20,
   "id": "149ab20d-c3d2-4cfd-b813-b38cb0015a29",
   "metadata": {},
   "outputs": [
    {
     "name": "stdout",
     "output_type": "stream",
     "text": [
      "--- Aggregate Results for 469 users ---\n",
      "Mean Precision@10:   0.0132\n",
      "Median Precision@10: 0.0000\n",
      "Standard Deviation:  0.0488\n",
      "Min Precision@10:    0.0000\n",
      "Max Precision@10:    0.6000\n",
      "------------------------------------\n"
     ]
    },
    {
     "data": {
      "image/png": "[encoded data removed]",
      "text/plain": [
       "<Figure size 1200x600 with 1 Axes>"
      ]
     },
     "metadata": {},
     "output_type": "display_data"
    }
   ],
   "source": [
    "import numpy as np\n",
    "import pandas as pd\n",
    "import matplotlib.pyplot as plt\n",
    "\n",
    "# --- Settings ---\n",
    "num_users_to_test = 500\n",
    "\n",
    "# --- Get a sample of users from the test set ---\n",
    "test_users = test_df['userId'].unique()\n",
    "if len(test_users) > num_users_to_test:\n",
    "    sample_users = np.random.choice(test_users, size=num_users_to_test, replace=False)\n",
    "else:\n",
    "    sample_users = test_users\n",
    "\n",
    "# --- Initialize list to store precision scores ---\n",
    "precisions = []\n",
    "\n",
    "# --- Get mappings and training matrix ---\n",
    "user_map = dict(zip(train_df['userId'], train_df['userId_cat']))\n",
    "item_cat_to_id = dict(zip(train_df['itemId_cat'], train_df['itemId']))\n",
    "train_user_item_matrix_csr = user_item_matrix.tocsr()\n",
    "\n",
    "# --- Loop through the sample users ---\n",
    "for user_id in sample_users:\n",
    "    # Get user's categorical code\n",
    "    if user_id not in user_map:\n",
    "        continue # Skip users in test set but not in training set\n",
    "    user_cat = user_map[user_id]\n",
    "\n",
    "    # Get recommendations\n",
    "    recommended_item_cats, scores = model.recommend(user_cat, train_user_item_matrix_csr[user_cat], N=10)\n",
    "    recommended_item_ids = [item_cat_to_id[i] for i in recommended_item_cats]\n",
    "\n",
    "    # Get actual items from the test set\n",
    "    actual_items = test_df[test_df['userId'] == user_id]['itemId'].tolist()\n",
    "\n",
    "    # Calculate hits and precision\n",
    "    hits = len(set(recommended_item_ids) & set(actual_items))\n",
    "    precision = hits / 10.0\n",
    "    precisions.append(precision)\n",
    "\n",
    "# --- Display Aggregate Results ---\n",
    "print(f\"--- Aggregate Results for {len(precisions)} users ---\")\n",
    "if precisions:\n",
    "    print(f\"Mean Precision@10:   {np.mean(precisions):.4f}\")\n",
    "    print(f\"Median Precision@10: {np.median(precisions):.4f}\")\n",
    "    print(f\"Standard Deviation:  {np.std(precisions):.4f}\")\n",
    "    print(f\"Min Precision@10:    {np.min(precisions):.4f}\")\n",
    "    print(f\"Max Precision@10:    {np.max(precisions):.4f}\")\n",
    "else:\n",
    "    print(\"No users from the sample were found in the training set.\")\n",
    "print(\"------------------------------------\")\n",
    "\n",
    "# --- Plot a histogram of the precisions ---\n",
    "if precisions:\n",
    "    plt.figure(figsize=(12, 6))\n",
    "    plt.hist(precisions, bins=[0, 0.1, 0.2, 0.3, 0.4, 0.5, 0.6, 0.7, 0.8, 0.9, 1.0], edgecolor='black')\n",
    "    plt.title('Distribution of Precision@10 Scores for 500 Users')\n",
    "    plt.xlabel('Precision@10 Score')\n",
    "    plt.ylabel('Number of Users')\n",
    "    plt.xticks([0, 0.1, 0.2, 0.3, 0.4, 0.5, 0.6, 0.7, 0.8, 0.9, 1.0])\n",
    "    plt.grid(axis='y', alpha=0.75)\n",
    "    plt.show()"
   ]
  },
  {
   "cell_type": "code",
   "execution_count": 21,
   "id": "f18d0976-869c-4708-9e00-ee4fcd600d5d",
   "metadata": {},
   "outputs": [
    {
     "name": "stdout",
     "output_type": "stream",
     "text": [
      "--- Aggregate Results for 476 users ---\n",
      "Mean Precision@10:   0.0134\n",
      "Median Precision@10: 0.0000\n",
      "Standard Deviation:  0.0488\n",
      "Min Precision@10:    0.0000\n",
      "Max Precision@10:    0.6000\n",
      "------------------------------------\n"
     ]
    },
    {
     "data": {
      "image/png": "[encoded data removed]",
      "text/plain": [
       "<Figure size 1200x600 with 1 Axes>"
      ]
     },
     "metadata": {},
     "output_type": "display_data"
    }
   ],
   "source": [
    "import numpy as np\n",
    "import pandas as pd\n",
    "import matplotlib.pyplot as plt\n",
    "\n",
    "# --- Settings ---\n",
    "num_users_to_test = 1000\n",
    "\n",
    "# --- Get a sample of users from the test set ---\n",
    "test_users = test_df['userId'].unique()\n",
    "if len(test_users) > num_users_to_test:\n",
    "    sample_users = np.random.choice(test_users, size=num_users_to_test, replace=False)\n",
    "else:\n",
    "    sample_users = test_users\n",
    "\n",
    "# --- Initialize list to store precision scores ---\n",
    "precisions = []\n",
    "\n",
    "# --- Get mappings and training matrix ---\n",
    "user_map = dict(zip(train_df['userId'], train_df['userId_cat']))\n",
    "item_cat_to_id = dict(zip(train_df['itemId_cat'], train_df['itemId']))\n",
    "train_user_item_matrix_csr = user_item_matrix.tocsr()\n",
    "\n",
    "# --- Loop through the sample users ---\n",
    "for user_id in sample_users:\n",
    "    # Get user's categorical code\n",
    "    if user_id not in user_map:\n",
    "        continue # Skip users in test set but not in training set\n",
    "    user_cat = user_map[user_id]\n",
    "\n",
    "    # Get recommendations\n",
    "    recommended_item_cats, scores = model.recommend(user_cat, train_user_item_matrix_csr[user_cat], N=10)\n",
    "    recommended_item_ids = [item_cat_to_id[i] for i in recommended_item_cats]\n",
    "\n",
    "    # Get actual items from the test set\n",
    "    actual_items = test_df[test_df['userId'] == user_id]['itemId'].tolist()\n",
    "\n",
    "    # Calculate hits and precision\n",
    "    hits = len(set(recommended_item_ids) & set(actual_items))\n",
    "    precision = hits / 10.0\n",
    "    precisions.append(precision)\n",
    "\n",
    "# --- Display Aggregate Results ---\n",
    "print(f\"--- Aggregate Results for {len(precisions)} users ---\")\n",
    "if precisions:\n",
    "    print(f\"Mean Precision@10:   {np.mean(precisions):.4f}\")\n",
    "    print(f\"Median Precision@10: {np.median(precisions):.4f}\")\n",
    "    print(f\"Standard Deviation:  {np.std(precisions):.4f}\")\n",
    "    print(f\"Min Precision@10:    {np.min(precisions):.4f}\")\n",
    "    print(f\"Max Precision@10:    {np.max(precisions):.4f}\")\n",
    "else:\n",
    "    print(\"No users from the sample were found in the training set.\")\n",
    "print(\"------------------------------------\")\n",
    "\n",
    "# --- Plot a histogram of the precisions ---\n",
    "if precisions:\n",
    "    plt.figure(figsize=(12, 6))\n",
    "    plt.hist(precisions, bins=[0, 0.1, 0.2, 0.3, 0.4, 0.5, 0.6, 0.7, 0.8, 0.9, 1.0], edgecolor='black')\n",
    "    plt.title('Distribution of Precision@10 Scores for 500 Users')\n",
    "    plt.xlabel('Precision@10 Score')\n",
    "    plt.ylabel('Number of Users')\n",
    "    plt.xticks([0, 0.1, 0.2, 0.3, 0.4, 0.5, 0.6, 0.7, 0.8, 0.9, 1.0])\n",
    "    plt.grid(axis='y', alpha=0.75)\n",
    "    plt.show()"
   ]
  },
  {
   "cell_type": "code",
   "execution_count": 22,
   "id": "bf843788-77e0-4942-a390-1516e359c994",
   "metadata": {},
   "outputs": [
    {
     "name": "stdout",
     "output_type": "stream",
     "text": [
      "--- Training model with 20 factors ---\n"
     ]
    },
    {
     "name": "stderr",
     "output_type": "stream",
     "text": [
      "/mnt/c/Users/Joel Crouch/dev/large-scale-ranking-system/venv/lib/python3.12/site-packages/implicit/utils.py:164: ParameterWarning: Method expects CSR input, and was passed coo_matrix instead. Converting to CSR took 0.0009086132049560547 seconds\n",
      "  warnings.warn(\n"
     ]
    },
    {
     "data": {
      "application/vnd.jupyter.widget-view+json": {
       "model_id": "bef7db7d70144efba9b862263956f519",
       "version_major": 2,
       "version_minor": 0
      },
      "text/plain": [
       "  0%|          | 0/15 [00:00<?, ?it/s]"
      ]
     },
     "metadata": {},
     "output_type": "display_data"
    },
    {
     "name": "stdout",
     "output_type": "stream",
     "text": [
      "Training time: 0.27 seconds\n",
      "Mean Precision@10: 0.0118\n",
      "Median Precision@10: 0.0000\n",
      "------------------------------------\n",
      "--- Training model with 50 factors ---\n"
     ]
    },
    {
     "name": "stderr",
     "output_type": "stream",
     "text": [
      "/mnt/c/Users/Joel Crouch/dev/large-scale-ranking-system/venv/lib/python3.12/site-packages/implicit/utils.py:164: ParameterWarning: Method expects CSR input, and was passed coo_matrix instead. Converting to CSR took 0.0004215240478515625 seconds\n",
      "  warnings.warn(\n"
     ]
    },
    {
     "data": {
      "application/vnd.jupyter.widget-view+json": {
       "model_id": "11918174afe84661ba4b40348e4dd434",
       "version_major": 2,
       "version_minor": 0
      },
      "text/plain": [
       "  0%|          | 0/15 [00:00<?, ?it/s]"
      ]
     },
     "metadata": {},
     "output_type": "display_data"
    },
    {
     "name": "stdout",
     "output_type": "stream",
     "text": [
      "Training time: 0.29 seconds\n",
      "Mean Precision@10: 0.0151\n",
      "Median Precision@10: 0.0000\n",
      "------------------------------------\n",
      "--- Training model with 100 factors ---\n"
     ]
    },
    {
     "name": "stderr",
     "output_type": "stream",
     "text": [
      "/mnt/c/Users/Joel Crouch/dev/large-scale-ranking-system/venv/lib/python3.12/site-packages/implicit/utils.py:164: ParameterWarning: Method expects CSR input, and was passed coo_matrix instead. Converting to CSR took 0.0005826950073242188 seconds\n",
      "  warnings.warn(\n"
     ]
    },
    {
     "data": {
      "application/vnd.jupyter.widget-view+json": {
       "model_id": "c8f6518e2afd4c89b03c06ae82c4257c",
       "version_major": 2,
       "version_minor": 0
      },
      "text/plain": [
       "  0%|          | 0/15 [00:00<?, ?it/s]"
      ]
     },
     "metadata": {},
     "output_type": "display_data"
    },
    {
     "name": "stdout",
     "output_type": "stream",
     "text": [
      "Training time: 0.80 seconds\n",
      "Mean Precision@10: 0.0155\n",
      "Median Precision@10: 0.0000\n",
      "------------------------------------\n",
      "--- Training model with 150 factors ---\n"
     ]
    },
    {
     "name": "stderr",
     "output_type": "stream",
     "text": [
      "/mnt/c/Users/Joel Crouch/dev/large-scale-ranking-system/venv/lib/python3.12/site-packages/implicit/utils.py:164: ParameterWarning: Method expects CSR input, and was passed coo_matrix instead. Converting to CSR took 0.0004413127899169922 seconds\n",
      "  warnings.warn(\n"
     ]
    },
    {
     "data": {
      "application/vnd.jupyter.widget-view+json": {
       "model_id": "1029e691180c471199631bdc204e01cd",
       "version_major": 2,
       "version_minor": 0
      },
      "text/plain": [
       "  0%|          | 0/15 [00:00<?, ?it/s]"
      ]
     },
     "metadata": {},
     "output_type": "display_data"
    },
    {
     "name": "stdout",
     "output_type": "stream",
     "text": [
      "Training time: 1.12 seconds\n",
      "Mean Precision@10: 0.0162\n",
      "Median Precision@10: 0.0000\n",
      "------------------------------------\n",
      "--- Training model with 200 factors ---\n"
     ]
    },
    {
     "name": "stderr",
     "output_type": "stream",
     "text": [
      "/mnt/c/Users/Joel Crouch/dev/large-scale-ranking-system/venv/lib/python3.12/site-packages/implicit/utils.py:164: ParameterWarning: Method expects CSR input, and was passed coo_matrix instead. Converting to CSR took 0.00043129920959472656 seconds\n",
      "  warnings.warn(\n"
     ]
    },
    {
     "data": {
      "application/vnd.jupyter.widget-view+json": {
       "model_id": "52b40a172c1d459aa01e4a0d26ab1a30",
       "version_major": 2,
       "version_minor": 0
      },
      "text/plain": [
       "  0%|          | 0/15 [00:00<?, ?it/s]"
      ]
     },
     "metadata": {},
     "output_type": "display_data"
    },
    {
     "name": "stdout",
     "output_type": "stream",
     "text": [
      "Training time: 6.11 seconds\n",
      "Mean Precision@10: 0.0179\n",
      "Median Precision@10: 0.0000\n",
      "------------------------------------\n",
      "\n",
      "--- Hyperparameter Tuning Results ---\n",
      "   factors  mean_precision  median_precision  training_time_seconds\n",
      "0       20        0.011765               0.0               0.274852\n",
      "1       50        0.015126               0.0               0.293094\n",
      "2      100        0.015546               0.0               0.804634\n",
      "3      150        0.016176               0.0               1.117397\n",
      "4      200        0.017857               0.0               6.112448\n"
     ]
    },
    {
     "data": {
      "image/png": "[encoded data removed]",
      "text/plain": [
       "<Figure size 1200x600 with 1 Axes>"
      ]
     },
     "metadata": {},
     "output_type": "display_data"
    }
   ],
   "source": [
    "import time\n",
    "import numpy as np\n",
    "import pandas as pd\n",
    "import matplotlib.pyplot as plt\n",
    "import implicit\n",
    "\n",
    "# --- Hyperparameters to test ---\n",
    "# We'll start by tuning the number of factors\n",
    "factor_values = [20, 50, 100, 150, 200]\n",
    "\n",
    "# --- Store results ---\n",
    "tuning_results = []\n",
    "\n",
    "# --- Get the sample of users for consistent evaluation ---\n",
    "num_users_to_test = 1000\n",
    "test_users = test_df['userId'].unique()\n",
    "if len(test_users) > num_users_to_test:\n",
    "    sample_users = np.random.choice(test_users, size=num_users_to_test, replace=False)\n",
    "else:\n",
    "    sample_users = test_users\n",
    "\n",
    "# --- Get mappings and training matrix ---\n",
    "user_map = dict(zip(train_df['userId'], train_df['userId_cat']))\n",
    "item_cat_to_id = dict(zip(train_df['itemId_cat'], train_df['itemId']))\n",
    "train_user_item_matrix_csr = user_item_matrix.tocsr()\n",
    "\n",
    "\n",
    "# --- Loop through the hyperparameter values ---\n",
    "for factors in factor_values:\n",
    "    print(f\"--- Training model with {factors} factors ---\")\n",
    "    start_time = time.time()\n",
    "\n",
    "    # --- 1. Train the model ---\n",
    "    model = implicit.als.AlternatingLeastSquares(factors=factors, random_state=42)\n",
    "    model.fit(user_item_matrix)\n",
    "    training_time = time.time() - start_time\n",
    "    print(f\"Training time: {training_time:.2f} seconds\")\n",
    "\n",
    "    # --- 2. Evaluate the model ---\n",
    "    precisions = []\n",
    "    for user_id in sample_users:\n",
    "        if user_id not in user_map:\n",
    "            continue\n",
    "        user_cat = user_map[user_id]\n",
    "        recommended_item_cats, scores = model.recommend(user_cat, train_user_item_matrix_csr[user_cat], N=10)\n",
    "        recommended_item_ids = [item_cat_to_id[i] for i in recommended_item_cats]\n",
    "        actual_items = test_df[test_df['userId'] == user_id]['itemId'].tolist()\n",
    "        hits = len(set(recommended_item_ids) & set(actual_items))\n",
    "        precision = hits / 10.0\n",
    "        precisions.append(precision)\n",
    "\n",
    "    # --- 3. Store the results ---\n",
    "    if precisions:\n",
    "        mean_precision = np.mean(precisions)\n",
    "        median_precision = np.median(precisions)\n",
    "    else:\n",
    "        mean_precision = 0\n",
    "        median_precision = 0\n",
    "\n",
    "    tuning_results.append({\n",
    "        'factors': factors,\n",
    "        'mean_precision': mean_precision,\n",
    "        'median_precision': median_precision,\n",
    "        'training_time_seconds': training_time\n",
    "    })\n",
    "    print(f\"Mean Precision@10: {mean_precision:.4f}\")\n",
    "    print(f\"Median Precision@10: {median_precision:.4f}\")\n",
    "    print(\"------------------------------------\")\n",
    "\n",
    "\n",
    "# --- Display Final Results ---\n",
    "print(\"\\n--- Hyperparameter Tuning Results ---\")\n",
    "results_df = pd.DataFrame(tuning_results)\n",
    "print(results_df)\n",
    "\n",
    "# --- Plot the results for easy comparison ---\n",
    "if not results_df.empty:\n",
    "    plt.figure(figsize=(12, 6))\n",
    "    plt.plot(results_df['factors'], results_df['mean_precision'], marker='o', label='Mean Precision')\n",
    "    plt.plot(results_df['factors'], results_df['median_precision'], marker='o', label='Median Precision')\n",
    "    plt.title('Hyperparameter Tuning: Number of Factors')\n",
    "    plt.xlabel('Number of Factors')\n",
    "    plt.ylabel('Precision@10')\n",
    "    plt.xticks(factor_values)\n",
    "    plt.legend()\n",
    "    plt.grid(True)\n",
    "    plt.show()"
   ]
  },
  {
   "cell_type": "code",
   "execution_count": 23,
   "id": "ff3aa30c-7141-4ca9-a1fe-8ec70c638ec3",
   "metadata": {},
   "outputs": [
    {
     "name": "stdout",
     "output_type": "stream",
     "text": [
      "--- Training model with regularization = 0.01 ---\n"
     ]
    },
    {
     "name": "stderr",
     "output_type": "stream",
     "text": [
      "/mnt/c/Users/Joel Crouch/dev/large-scale-ranking-system/venv/lib/python3.12/site-packages/implicit/utils.py:164: ParameterWarning: Method expects CSR input, and was passed coo_matrix instead. Converting to CSR took 0.0015921592712402344 seconds\n",
      "  warnings.warn(\n"
     ]
    },
    {
     "data": {
      "application/vnd.jupyter.widget-view+json": {
       "model_id": "c0994132108c4caeb2ec5940b6145833",
       "version_major": 2,
       "version_minor": 0
      },
      "text/plain": [
       "  0%|          | 0/15 [00:00<?, ?it/s]"
      ]
     },
     "metadata": {},
     "output_type": "display_data"
    },
    {
     "name": "stdout",
     "output_type": "stream",
     "text": [
      "Training time: 6.43 seconds\n",
      "Mean Precision@10: 0.0179\n",
      "Median Precision@10: 0.0000\n",
      "------------------------------------\n",
      "--- Training model with regularization = 0.1 ---\n"
     ]
    },
    {
     "name": "stderr",
     "output_type": "stream",
     "text": [
      "/mnt/c/Users/Joel Crouch/dev/large-scale-ranking-system/venv/lib/python3.12/site-packages/implicit/utils.py:164: ParameterWarning: Method expects CSR input, and was passed coo_matrix instead. Converting to CSR took 0.00042319297790527344 seconds\n",
      "  warnings.warn(\n"
     ]
    },
    {
     "data": {
      "application/vnd.jupyter.widget-view+json": {
       "model_id": "8b96358a21cd4d9182bf7b6a1f9c1728",
       "version_major": 2,
       "version_minor": 0
      },
      "text/plain": [
       "  0%|          | 0/15 [00:00<?, ?it/s]"
      ]
     },
     "metadata": {},
     "output_type": "display_data"
    },
    {
     "name": "stdout",
     "output_type": "stream",
     "text": [
      "Training time: 5.78 seconds\n",
      "Mean Precision@10: 0.0176\n",
      "Median Precision@10: 0.0000\n",
      "------------------------------------\n",
      "--- Training model with regularization = 1.0 ---\n"
     ]
    },
    {
     "name": "stderr",
     "output_type": "stream",
     "text": [
      "/mnt/c/Users/Joel Crouch/dev/large-scale-ranking-system/venv/lib/python3.12/site-packages/implicit/utils.py:164: ParameterWarning: Method expects CSR input, and was passed coo_matrix instead. Converting to CSR took 0.00038909912109375 seconds\n",
      "  warnings.warn(\n"
     ]
    },
    {
     "data": {
      "application/vnd.jupyter.widget-view+json": {
       "model_id": "c1aff6b03a084a6b8c33614f599b0c51",
       "version_major": 2,
       "version_minor": 0
      },
      "text/plain": [
       "  0%|          | 0/15 [00:00<?, ?it/s]"
      ]
     },
     "metadata": {},
     "output_type": "display_data"
    },
    {
     "name": "stdout",
     "output_type": "stream",
     "text": [
      "Training time: 5.72 seconds\n",
      "Mean Precision@10: 0.0174\n",
      "Median Precision@10: 0.0000\n",
      "------------------------------------\n",
      "--- Training model with regularization = 10.0 ---\n"
     ]
    },
    {
     "name": "stderr",
     "output_type": "stream",
     "text": [
      "/mnt/c/Users/Joel Crouch/dev/large-scale-ranking-system/venv/lib/python3.12/site-packages/implicit/utils.py:164: ParameterWarning: Method expects CSR input, and was passed coo_matrix instead. Converting to CSR took 0.0004687309265136719 seconds\n",
      "  warnings.warn(\n"
     ]
    },
    {
     "data": {
      "application/vnd.jupyter.widget-view+json": {
       "model_id": "58c692129edc4ac98d7f2a1fdf409237",
       "version_major": 2,
       "version_minor": 0
      },
      "text/plain": [
       "  0%|          | 0/15 [00:00<?, ?it/s]"
      ]
     },
     "metadata": {},
     "output_type": "display_data"
    },
    {
     "name": "stdout",
     "output_type": "stream",
     "text": [
      "Training time: 6.60 seconds\n",
      "Mean Precision@10: 0.0155\n",
      "Median Precision@10: 0.0000\n",
      "------------------------------------\n",
      "--- Training model with regularization = 100.0 ---\n"
     ]
    },
    {
     "name": "stderr",
     "output_type": "stream",
     "text": [
      "/mnt/c/Users/Joel Crouch/dev/large-scale-ranking-system/venv/lib/python3.12/site-packages/implicit/utils.py:164: ParameterWarning: Method expects CSR input, and was passed coo_matrix instead. Converting to CSR took 0.00045609474182128906 seconds\n",
      "  warnings.warn(\n"
     ]
    },
    {
     "data": {
      "application/vnd.jupyter.widget-view+json": {
       "model_id": "d1f0d45b623d4e0abd667222311560d0",
       "version_major": 2,
       "version_minor": 0
      },
      "text/plain": [
       "  0%|          | 0/15 [00:00<?, ?it/s]"
      ]
     },
     "metadata": {},
     "output_type": "display_data"
    },
    {
     "name": "stdout",
     "output_type": "stream",
     "text": [
      "Training time: 5.31 seconds\n",
      "Mean Precision@10: 0.0046\n",
      "Median Precision@10: 0.0000\n",
      "------------------------------------\n",
      "\n",
      "--- Regularization Tuning Results ---\n",
      "   regularization  mean_precision  median_precision  training_time_seconds\n",
      "0            0.01        0.017857               0.0               6.427993\n",
      "1            0.10        0.017647               0.0               5.777408\n",
      "2            1.00        0.017437               0.0               5.724759\n",
      "3           10.00        0.015546               0.0               6.604615\n",
      "4          100.00        0.004622               0.0               5.314219\n"
     ]
    },
    {
     "data": {
      "image/png": "[encoded data removed]",
      "text/plain": [
       "<Figure size 1200x600 with 1 Axes>"
      ]
     },
     "metadata": {},
     "output_type": "display_data"
    }
   ],
   "source": [
    "import time\n",
    "import numpy as np\n",
    "import pandas as pd\n",
    "import matplotlib.pyplot as plt\n",
    "import implicit\n",
    "\n",
    "# --- Hyperparameters to test ---\n",
    "# We'll fix factors=200 and tune the regularization parameter\n",
    "regularization_values = [0.01, 0.1, 1.0, 10.0, 100.0]\n",
    "\n",
    "# --- Store results ---\n",
    "reg_tuning_results = []\n",
    "\n",
    "# (Assuming sample_users, user_map, etc. are still in memory from the last run)\n",
    "\n",
    "# --- Loop through the hyperparameter values ---\n",
    "for regularization in regularization_values:\n",
    "    print(f\"--- Training model with regularization = {regularization} ---\")\n",
    "    start_time = time.time()\n",
    "\n",
    "    # --- 1. Train the model ---\n",
    "    model = implicit.als.AlternatingLeastSquares(factors=200, regularization=regularization, random_state=42)\n",
    "    model.fit(user_item_matrix)\n",
    "    training_time = time.time() - start_time\n",
    "    print(f\"Training time: {training_time:.2f} seconds\")\n",
    "\n",
    "    # --- 2. Evaluate the model ---\n",
    "    precisions = []\n",
    "    for user_id in sample_users:\n",
    "        if user_id not in user_map:\n",
    "            continue\n",
    "        user_cat = user_map[user_id]\n",
    "        recommended_item_cats, scores = model.recommend(user_cat, train_user_item_matrix_csr[user_cat], N=10)\n",
    "        recommended_item_ids = [item_cat_to_id[i] for i in recommended_item_cats]\n",
    "        actual_items = test_df[test_df['userId'] == user_id]['itemId'].tolist()\n",
    "        hits = len(set(recommended_item_ids) & set(actual_items))\n",
    "        precision = hits / 10.0\n",
    "        precisions.append(precision)\n",
    "\n",
    "    # --- 3. Store the results ---\n",
    "    if precisions:\n",
    "        mean_precision = np.mean(precisions)\n",
    "        median_precision = np.median(precisions)\n",
    "    else:\n",
    "        mean_precision = 0\n",
    "        median_precision = 0\n",
    "\n",
    "    reg_tuning_results.append({\n",
    "        'regularization': regularization,\n",
    "        'mean_precision': mean_precision,\n",
    "        'median_precision': median_precision,\n",
    "        'training_time_seconds': training_time\n",
    "    })\n",
    "    print(f\"Mean Precision@10: {mean_precision:.4f}\")\n",
    "    print(f\"Median Precision@10: {median_precision:.4f}\")\n",
    "    print(\"------------------------------------\")\n",
    "\n",
    "\n",
    "# --- Display Final Results ---\n",
    "print(\"\\n--- Regularization Tuning Results ---\")\n",
    "reg_results_df = pd.DataFrame(reg_tuning_results)\n",
    "print(reg_results_df)\n",
    "\n",
    "# --- Plot the results for easy comparison ---\n",
    "if not reg_results_df.empty:\n",
    "    plt.figure(figsize=(12, 6))\n",
    "    plt.plot(reg_results_df['regularization'], reg_results_df['mean_precision'], marker='o', label='Mean Precision')\n",
    "    plt.plot(reg_results_df['regularization'], reg_results_df['median_precision'], marker='o', label='Median Precision')\n",
    "    plt.title('Hyperparameter Tuning: Regularization (factors=200)')\n",
    "    plt.xlabel('Regularization Value (log scale)')\n",
    "    plt.ylabel('Precision@10')\n",
    "    plt.xscale('log') # Use a log scale for the x-axis for better visualization\n",
    "    plt.legend()\n",
    "    plt.grid(True)\n",
    "    plt.show()"
   ]
  },
  {
   "cell_type": "code",
   "execution_count": 24,
   "id": "868721e6-9035-4207-ab4c-f08232cc7621",
   "metadata": {},
   "outputs": [
    {
     "name": "stdout",
     "output_type": "stream",
     "text": [
      "--- Training BPR model ---\n"
     ]
    },
    {
     "name": "stderr",
     "output_type": "stream",
     "text": [
      "/mnt/c/Users/Joel Crouch/dev/large-scale-ranking-system/venv/lib/python3.12/site-packages/implicit/utils.py:164: ParameterWarning: Method expects CSR input, and was passed coo_matrix instead. Converting to CSR took 0.0002963542938232422 seconds\n",
      "  warnings.warn(\n"
     ]
    },
    {
     "data": {
      "application/vnd.jupyter.widget-view+json": {
       "model_id": "476afd07f16a4dab942308febc796eac",
       "version_major": 2,
       "version_minor": 0
      },
      "text/plain": [
       "  0%|          | 0/100 [00:00<?, ?it/s]"
      ]
     },
     "metadata": {},
     "output_type": "display_data"
    },
    {
     "name": "stdout",
     "output_type": "stream",
     "text": [
      "Training time: 0.81 seconds\n",
      "\n",
      "--- BPR Model Evaluation Results ---\n",
      "Mean Precision@10: 0.0032\n",
      "Median Precision@10: 0.0000\n",
      "------------------------------------\n"
     ]
    }
   ],
   "source": [
    "import time\n",
    "import numpy as np\n",
    "import pandas as pd\n",
    "import matplotlib.pyplot as plt\n",
    "import implicit\n",
    "\n",
    "# --- Try a new model: Bayesian Personalized Ranking (BPR) ---\n",
    "\n",
    "print(\"--- Training BPR model ---\")\n",
    "start_time = time.time()\n",
    "\n",
    "# --- 1. Train the BPR model ---\n",
    "# We'll use the same number of factors as our best ALS model\n",
    "bpr_model = implicit.bpr.BayesianPersonalizedRanking(factors=200, random_state=42)\n",
    "\n",
    "# BPR uses the same user-item matrix\n",
    "bpr_model.fit(user_item_matrix)\n",
    "\n",
    "training_time = time.time() - start_time\n",
    "print(f\"Training time: {training_time:.2f} seconds\")\n",
    "\n",
    "\n",
    "# --- 2. Evaluate the BPR model ---\n",
    "# We use the exact same evaluation logic for a fair comparison\n",
    "precisions = []\n",
    "for user_id in sample_users:\n",
    "    if user_id not in user_map:\n",
    "        continue\n",
    "    user_cat = user_map[user_id]\n",
    "\n",
    "    # Use the BPR model to get recommendations\n",
    "    recommended_item_cats, scores = bpr_model.recommend(user_cat, train_user_item_matrix_csr[user_cat], N=10)\n",
    "    recommended_item_ids = [item_cat_to_id[i] for i in recommended_item_cats]\n",
    "\n",
    "    actual_items = test_df[test_df['userId'] == user_id]['itemId'].tolist()\n",
    "    hits = len(set(recommended_item_ids) & set(actual_items))\n",
    "    precision = hits / 10.0\n",
    "    precisions.append(precision)\n",
    "\n",
    "\n",
    "# --- 3. Display the results ---\n",
    "if precisions:\n",
    "    mean_precision = np.mean(precisions)\n",
    "    median_precision = np.median(precisions)\n",
    "else:\n",
    "    mean_precision = 0\n",
    "    median_precision = 0\n",
    "\n",
    "print(\"\\n--- BPR Model Evaluation Results ---\")\n",
    "print(f\"Mean Precision@10: {mean_precision:.4f}\")\n",
    "print(f\"Median Precision@10: {median_precision:.4f}\")\n",
    "print(\"------------------------------------\")"
   ]
  },
  {
   "cell_type": "code",
   "execution_count": 28,
   "id": "78f11ea9-77f5-47e0-b08f-0045c1aca9e2",
   "metadata": {},
   "outputs": [
    {
     "name": "stdout",
     "output_type": "stream",
     "text": [
      "BPR model saved to saved_models/bpr_model_v1.joblib\n"
     ]
    }
   ],
   "source": [
    "import joblib\n",
    "import os\n",
    "bpr_model_file_name=os.path.join('saved_models', 'bpr_model_v1.joblib')\n",
    "print(f\"BPR model saved to {bpr_model_file_name}\")\n"
   ]
  },
  {
   "cell_type": "code",
   "execution_count": 5,
   "id": "3509ac25-2dfc-419d-9525-e2beef0f8684",
   "metadata": {},
   "outputs": [
    {
     "name": "stdout",
     "output_type": "stream",
     "text": [
      "--- Ratings DataFrame ---\n",
      "                         userId      itemId  rating     timestamp\n",
      "0  AGKHLEW2SOWHNMFQIJGBECAF7INQ  B00YQ6X8EO     5.0  1.588688e+09\n",
      "1  AGKHLEW2SOWHNMFQIJGBECAF7INQ  B081TJ8YS3     4.0  1.588616e+09\n",
      "2  AE74DYR3QUGVPZJ3P7RFWBGIX7XQ  B07PNNCSP9     5.0  1.589665e+09\n",
      "3  AFQLNQNQYFWQZPJQZS6V3NZU4QBQ  B09JS339BZ     1.0  1.643394e+09\n",
      "4  AFQLNQNQYFWQZPJQZS6V3NZU4QBQ  B08BZ63GMJ     5.0  1.609323e+09\n",
      "\\n==================================================\\n\n",
      "--- Items DataFrame ---\n",
      "  main_category                                              title  \\\n",
      "0       Unknown  Howard LC0008 Leather Conditioner, 8-Ounce (4-...   \n",
      "1       Unknown  Yes to Tomatoes Detoxifying Charcoal Cleanser ...   \n",
      "2       Unknown   Eye Patch Black Adult with Tie Band (6 Per Pack)   \n",
      "3       Unknown  Tattoo Eyebrow Stickers, Waterproof Eyebrow, 4...   \n",
      "4       Unknown  Precision Plunger Bars for Cartridge Grips – 9...   \n",
      "\n",
      "   average_rating  rating_number  \\\n",
      "0             4.8             10   \n",
      "1             4.5              3   \n",
      "2             4.4             26   \n",
      "3             3.1            102   \n",
      "4             4.3              7   \n",
      "\n",
      "                                            features  \\\n",
      "0                                                 []   \n",
      "1                                                 []   \n",
      "2                                                 []   \n",
      "3                                                 []   \n",
      "4  ['Material: 304 Stainless Steel; Brass tip', '...   \n",
      "\n",
      "                                         description  price  \\\n",
      "0                                                 []    NaN   \n",
      "1                                                 []    NaN   \n",
      "2                                                 []    NaN   \n",
      "3                                                 []    NaN   \n",
      "4  ['The Precision Plunger Bars are designed to w...    NaN   \n",
      "\n",
      "                                              images videos  \\\n",
      "0  [{'thumb': 'https://m.media-amazon.com/images/...     []   \n",
      "1  [{'thumb': 'https://m.media-amazon.com/images/...     []   \n",
      "2  [{'thumb': 'https://m.media-amazon.com/images/...     []   \n",
      "3  [{'thumb': 'https://m.media-amazon.com/images/...     []   \n",
      "4  [{'thumb': 'https://m.media-amazon.com/images/...     []   \n",
      "\n",
      "                    store categories  \\\n",
      "0         Howard Products         []   \n",
      "1                  Yes To         []   \n",
      "2  Levine Health Products         []   \n",
      "3                Cherioll         []   \n",
      "4               Precision         []   \n",
      "\n",
      "                                             details parent_asin  \\\n",
      "0  {'Package Dimensions': '7.1 x 5.5 x 3 inches; ...  B01CUPMQZE   \n",
      "1  {'Item Form': 'Powder', 'Skin Type': 'Acne Pro...  B076WQZGPM   \n",
      "2         {'Manufacturer': 'Levine Health Products'}  B000B658RI   \n",
      "3  {'Brand': 'Cherioll', 'Item Form': 'Powder', '...  B088FKY3VD   \n",
      "4                            {'UPC': '644287689178'}  B07NGFDN6G   \n",
      "\n",
      "   bought_together      itemId  \n",
      "0              NaN  B01CUPMQZE  \n",
      "1              NaN  B076WQZGPM  \n",
      "2              NaN  B000B658RI  \n",
      "3              NaN  B088FKY3VD  \n",
      "4              NaN  B07NGFDN6G  \n"
     ]
    }
   ],
   "source": [
    "import pandas as pd\n",
    "  \n",
    " # --- Step 1: Load the Data ---\n",
    " \n",
    "  # Define the file paths based on your project structure\n",
    "ratings_filepath = ratings_filepath = \"/mnt/c/Users/Joel Crouch/dev/large-scale-ranking-system/data/processed/amazon_all_beauty/ratings.csv\"\n",
    "items_filepath = \"/mnt/c/Users/Joel Crouch/dev/large-scale-ranking-system/data/processed/amazon_all_beauty/items.csv\"\n",
    " \n",
    "try:\n",
    "      # Load the datasets into pandas DataFrames\n",
    "    ratings_df = pd.read_csv(ratings_filepath)\n",
    "    items_df = pd.read_csv(items_filepath)\n",
    "\n",
    " # Print the first few rows of each DataFrame to confirm they loaded correctly\n",
    "    print(\"--- Ratings DataFrame ---\")\n",
    "    print(ratings_df.head())\n",
    "    print(\"\\\\n\" + \"=\"*50 + \"\\\\n\")\n",
    "    print(\"--- Items DataFrame ---\")\n",
    "    print(items_df.head())\n",
    "   \n",
    "except FileNotFoundError as e:\n",
    "   print(f\"Error loading files: {e}\")\n",
    "   print(\"Please double-check that the file paths are correct and that you are running this from your WSL environment.\")"
   ]
  },
  {
   "cell_type": "code",
   "execution_count": 9,
   "id": "965f6098-4235-4ee5-be73-125b04df0598",
   "metadata": {},
   "outputs": [
    {
     "name": "stdout",
     "output_type": "stream",
     "text": [
      "--- Sample Item Features Data (first 5) ---\n",
      "[('B01CUPMQZE', ['Howard Products']), ('B076WQZGPM', ['Yes To']), ('B000B658RI', ['Levine Health Products']), ('B088FKY3VD', ['Cherioll']), ('B07NGFDN6G', ['Precision'])]\n",
      "\n",
      "==================================================\n",
      "\n",
      "Total unique users in ratings: 631986\n",
      "Total unique items in ratings: 115709\n"
     ]
    }
   ],
   "source": [
    "# Optimized version - should be much faster\n",
    "item_features_data = []\n",
    "\n",
    "# Vectorized operations instead of iterrows()\n",
    "items_df['store_clean'] = items_df['store'].fillna('unknown_brand').astype(str).str.strip()\n",
    "items_df['store_clean'] = items_df['store_clean'].replace('', 'unknown_brand')\n",
    "\n",
    "# Build the list using vectorized operations\n",
    "item_features_data = [(item_id, [brand]) \n",
    "                     for item_id, brand in zip(items_df['itemId'], items_df['store_clean'])\n",
    "                     if brand]  # This condition should always be true now due to fillna above\n",
    "\n",
    "# You can inspect a few of these to see the format\n",
    "print(\"--- Sample Item Features Data (first 5) ---\")\n",
    "print(item_features_data[:5])\n",
    "print(\"\\n\" + \"=\"*50 + \"\\n\")\n",
    "\n",
    "# Also, get all unique users and items from the ratings_df.\n",
    "# LightFM's Dataset object will handle the internal mapping of these.\n",
    "all_users = ratings_df['userId'].unique()\n",
    "all_items = ratings_df['itemId'].unique()\n",
    "\n",
    "print(f\"Total unique users in ratings: {len(all_users)}\")\n",
    "print(f\"Total unique items in ratings: {len(all_items)}\")\n",
    "\n",
    "# Alternative even faster approach if you have many items:\n",
    "# item_features_data = list(zip(items_df['itemId'], \n",
    "#                              items_df['store_clean'].apply(lambda x: [x])))"
   ]
  },
  {
   "cell_type": "code",
   "execution_count": 12,
   "id": "b29c3bca-ab3e-401a-bd6c-da8bfcc71ae0",
   "metadata": {},
   "outputs": [
    {
     "name": "stdout",
     "output_type": "stream",
     "text": [
      "Collecting lightfm\n",
      "  Using cached lightfm-1.17.tar.gz (316 kB)\n",
      "  Installing build dependencies ... \u001b[?25ldone\n",
      "\u001b[?25h  Getting requirements to build wheel ... \u001b[?25lerror\n",
      "  \u001b[1;31merror\u001b[0m: \u001b[1msubprocess-exited-with-error\u001b[0m\n",
      "  \n",
      "  \u001b[31m×\u001b[0m \u001b[32mGetting requirements to build wheel\u001b[0m did not run successfully.\n",
      "  \u001b[31m│\u001b[0m exit code: \u001b[1;36m1\u001b[0m\n",
      "  \u001b[31m╰─>\u001b[0m \u001b[31m[20 lines of output]\u001b[0m\n",
      "  \u001b[31m   \u001b[0m Traceback (most recent call last):\n",
      "  \u001b[31m   \u001b[0m   File \"/mnt/c/Users/Joel Crouch/dev/large-scale-ranking-system/venv/lib/python3.12/site-packages/pip/_vendor/pyproject_hooks/_in_process/_in_process.py\", line 353, in <module>\n",
      "  \u001b[31m   \u001b[0m     main()\n",
      "  \u001b[31m   \u001b[0m   File \"/mnt/c/Users/Joel Crouch/dev/large-scale-ranking-system/venv/lib/python3.12/site-packages/pip/_vendor/pyproject_hooks/_in_process/_in_process.py\", line 335, in main\n",
      "  \u001b[31m   \u001b[0m     json_out['return_val'] = hook(**hook_input['kwargs'])\n",
      "  \u001b[31m   \u001b[0m                              ^^^^^^^^^^^^^^^^^^^^^^^^^^^^\n",
      "  \u001b[31m   \u001b[0m   File \"/mnt/c/Users/Joel Crouch/dev/large-scale-ranking-system/venv/lib/python3.12/site-packages/pip/_vendor/pyproject_hooks/_in_process/_in_process.py\", line 118, in get_requires_for_build_wheel\n",
      "  \u001b[31m   \u001b[0m     return hook(config_settings)\n",
      "  \u001b[31m   \u001b[0m            ^^^^^^^^^^^^^^^^^^^^^\n",
      "  \u001b[31m   \u001b[0m   File \"/tmp/pip-build-env-ua6vfeq1/overlay/lib/python3.12/site-packages/setuptools/build_meta.py\", line 331, in get_requires_for_build_wheel\n",
      "  \u001b[31m   \u001b[0m     return self._get_build_requires(config_settings, requirements=[])\n",
      "  \u001b[31m   \u001b[0m            ^^^^^^^^^^^^^^^^^^^^^^^^^^^^^^^^^^^^^^^^^^^^^^^^^^^^^^^^^^\n",
      "  \u001b[31m   \u001b[0m   File \"/tmp/pip-build-env-ua6vfeq1/overlay/lib/python3.12/site-packages/setuptools/build_meta.py\", line 301, in _get_build_requires\n",
      "  \u001b[31m   \u001b[0m     self.run_setup()\n",
      "  \u001b[31m   \u001b[0m   File \"/tmp/pip-build-env-ua6vfeq1/overlay/lib/python3.12/site-packages/setuptools/build_meta.py\", line 512, in run_setup\n",
      "  \u001b[31m   \u001b[0m     super().run_setup(setup_script=setup_script)\n",
      "  \u001b[31m   \u001b[0m   File \"/tmp/pip-build-env-ua6vfeq1/overlay/lib/python3.12/site-packages/setuptools/build_meta.py\", line 317, in run_setup\n",
      "  \u001b[31m   \u001b[0m     exec(code, locals())\n",
      "  \u001b[31m   \u001b[0m   File \"<string>\", line 11, in <module>\n",
      "  \u001b[31m   \u001b[0m AttributeError: 'dict' object has no attribute '__LIGHTFM_SETUP__'\n",
      "  \u001b[31m   \u001b[0m \u001b[31m[end of output]\u001b[0m\n",
      "  \n",
      "  \u001b[1;35mnote\u001b[0m: This error originates from a subprocess, and is likely not a problem with pip.\n",
      "\u001b[1;31merror\u001b[0m: \u001b[1msubprocess-exited-with-error\u001b[0m\n",
      "\n",
      "\u001b[31m×\u001b[0m \u001b[32mGetting requirements to build wheel\u001b[0m did not run successfully.\n",
      "\u001b[31m│\u001b[0m exit code: \u001b[1;36m1\u001b[0m\n",
      "\u001b[31m╰─>\u001b[0m See above for output.\n",
      "\n",
      "\u001b[1;35mnote\u001b[0m: This error originates from a subprocess, and is likely not a problem with pip.\n",
      "\u001b[?25h"
     ]
    }
   ],
   "source": [
    "!pip install lightfm\n"
   ]
  },
  {
   "cell_type": "code",
   "execution_count": 10,
   "id": "2717e92e-c50a-41b3-bb2a-6d85d47ec4cc",
   "metadata": {},
   "outputs": [
    {
     "ename": "ModuleNotFoundError",
     "evalue": "No module named 'lightfm'",
     "output_type": "error",
     "traceback": [
      "\u001b[31m---------------------------------------------------------------------------\u001b[39m",
      "\u001b[31mModuleNotFoundError\u001b[39m                       Traceback (most recent call last)",
      "\u001b[36mCell\u001b[39m\u001b[36m \u001b[39m\u001b[32mIn[10]\u001b[39m\u001b[32m, line 1\u001b[39m\n\u001b[32m----> \u001b[39m\u001b[32m1\u001b[39m \u001b[38;5;28;01mfrom\u001b[39;00m\u001b[38;5;250m \u001b[39m\u001b[34;01mlightfm\u001b[39;00m\u001b[34;01m.\u001b[39;00m\u001b[34;01mdata\u001b[39;00m\u001b[38;5;250m \u001b[39m\u001b[38;5;28;01mimport\u001b[39;00m Dataset\n\u001b[32m      3\u001b[39m \u001b[38;5;66;03m# --- Step 3: Build the LightFM Dataset (Optimized) ---\u001b[39;00m\n\u001b[32m      4\u001b[39m \n\u001b[32m      5\u001b[39m \u001b[38;5;66;03m# Initialize a LightFM Dataset object\u001b[39;00m\n\u001b[32m      6\u001b[39m \u001b[38;5;66;03m# This object will learn about all unique users, items, and item features \u001b[39;00m\n\u001b[32m      7\u001b[39m dataset = Dataset()\n",
      "\u001b[31mModuleNotFoundError\u001b[39m: No module named 'lightfm'"
     ]
    }
   ],
   "source": [
    "from lightfm.data import Dataset\n",
    "\n",
    "# --- Step 3: Build the LightFM Dataset (Optimized) ---\n",
    "\n",
    "# Initialize a LightFM Dataset object\n",
    "# This object will learn about all unique users, items, and item features \n",
    "dataset = Dataset()\n",
    "\n",
    "# Fit the dataset with all users and items from your ratings_df\n",
    "# This maps your raw user/item IDs to internal integer IDs\n",
    "dataset.fit(\n",
    "    all_users,  # Convert generator to list for better performance\n",
    "    all_items   # Convert generator to list for better performance\n",
    ")\n",
    "\n",
    "# Fit the item features. This maps your raw feature names (brands) to internal IDs.\n",
    "# Convert to list for better performance\n",
    "dataset.fit_item_features(item_features_data)\n",
    "\n",
    "# Now, build the interaction matrix (user-item interactions) - OPTIMIZED VERSION\n",
    "# LightFM expects (user_id, item_id, rating) tuples for interactions.\n",
    "# The 'rating' here will be used as interaction weights.\n",
    "print(\"Building interactions matrix...\")\n",
    "interactions_data = list(zip(ratings_df['userId'], ratings_df['itemId'], ratings_df['rating']))\n",
    "(interactions, weights) = dataset.build_interactions(interactions_data)\n",
    "\n",
    "# Build the item features matrix\n",
    "# This matrix tells LightFM which features belong to which items.\n",
    "print(\"Building item features matrix...\")\n",
    "item_features = dataset.build_item_features(item_features_data)\n",
    "\n",
    "print(f\"Number of users in dataset: {dataset.interactions_shape()[0]}\")\n",
    "print(f\"Number of items in dataset: {dataset.interactions_shape()[1]}\")\n",
    "print(f\"Number of interactions: {interactions.nnz}\")\n",
    "print(f\"Shape of item features matrix: {item_features.shape}\")"
   ]
  }
 ],
 "metadata": {
  "kernelspec": {
   "display_name": "Python 3 (ipykernel)",
   "language": "python",
   "name": "python3"
  },
  "language_info": {
   "codemirror_mode": {
    "name": "ipython",
    "version": 3
   },
   "file_extension": ".py",
   "mimetype": "text/x-python",
   "name": "python",
   "nbconvert_exporter": "python",
   "pygments_lexer": "ipython3",
   "version": "3.12.3"
  }
 },
 "nbformat": 4,
 "nbformat_minor": 5
}
