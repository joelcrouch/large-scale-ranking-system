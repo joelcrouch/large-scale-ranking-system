{
 "cells": [
  {
   "cell_type": "code",
   "execution_count": 1,
   "id": "19bb21f9-e508-4d67-baeb-e92287501c6f",
   "metadata": {
    "scrolled": true
   },
   "outputs": [
    {
     "data": {
      "text/html": [
       "<div>\n",
       "<style scoped>\n",
       "    .dataframe tbody tr th:only-of-type {\n",
       "        vertical-align: middle;\n",
       "    }\n",
       "\n",
       "    .dataframe tbody tr th {\n",
       "        vertical-align: top;\n",
       "    }\n",
       "\n",
       "    .dataframe thead th {\n",
       "        text-align: right;\n",
       "    }\n",
       "</style>\n",
       "<table border=\"1\" class=\"dataframe\">\n",
       "  <thead>\n",
       "    <tr style=\"text-align: right;\">\n",
       "      <th></th>\n",
       "      <th>userId</th>\n",
       "      <th>itemId</th>\n",
       "      <th>rating</th>\n",
       "      <th>timestamp</th>\n",
       "    </tr>\n",
       "  </thead>\n",
       "  <tbody>\n",
       "    <tr>\n",
       "      <th>0</th>\n",
       "      <td>AGKHLEW2SOWHNMFQIJGBECAF7INQ</td>\n",
       "      <td>B00YQ6X8EO</td>\n",
       "      <td>5.0</td>\n",
       "      <td>1.588688e+09</td>\n",
       "    </tr>\n",
       "    <tr>\n",
       "      <th>1</th>\n",
       "      <td>AGKHLEW2SOWHNMFQIJGBECAF7INQ</td>\n",
       "      <td>B081TJ8YS3</td>\n",
       "      <td>4.0</td>\n",
       "      <td>1.588616e+09</td>\n",
       "    </tr>\n",
       "    <tr>\n",
       "      <th>2</th>\n",
       "      <td>AE74DYR3QUGVPZJ3P7RFWBGIX7XQ</td>\n",
       "      <td>B07PNNCSP9</td>\n",
       "      <td>5.0</td>\n",
       "      <td>1.589665e+09</td>\n",
       "    </tr>\n",
       "    <tr>\n",
       "      <th>3</th>\n",
       "      <td>AFQLNQNQYFWQZPJQZS6V3NZU4QBQ</td>\n",
       "      <td>B09JS339BZ</td>\n",
       "      <td>1.0</td>\n",
       "      <td>1.643394e+09</td>\n",
       "    </tr>\n",
       "    <tr>\n",
       "      <th>4</th>\n",
       "      <td>AFQLNQNQYFWQZPJQZS6V3NZU4QBQ</td>\n",
       "      <td>B08BZ63GMJ</td>\n",
       "      <td>5.0</td>\n",
       "      <td>1.609323e+09</td>\n",
       "    </tr>\n",
       "  </tbody>\n",
       "</table>\n",
       "</div>"
      ],
      "text/plain": [
       "                         userId      itemId  rating     timestamp\n",
       "0  AGKHLEW2SOWHNMFQIJGBECAF7INQ  B00YQ6X8EO     5.0  1.588688e+09\n",
       "1  AGKHLEW2SOWHNMFQIJGBECAF7INQ  B081TJ8YS3     4.0  1.588616e+09\n",
       "2  AE74DYR3QUGVPZJ3P7RFWBGIX7XQ  B07PNNCSP9     5.0  1.589665e+09\n",
       "3  AFQLNQNQYFWQZPJQZS6V3NZU4QBQ  B09JS339BZ     1.0  1.643394e+09\n",
       "4  AFQLNQNQYFWQZPJQZS6V3NZU4QBQ  B08BZ63GMJ     5.0  1.609323e+09"
      ]
     },
     "execution_count": 1,
     "metadata": {},
     "output_type": "execute_result"
    }
   ],
   "source": [
    "import pandas as pd \n",
    "ratings_file ='../../data/processed/amazon_all_beauty/ratings.csv'\n",
    "df = pd.read_csv(ratings_file)\n",
    "df.head()\n",
    "\n"
   ]
  },
  {
   "cell_type": "code",
   "execution_count": 6,
   "id": "68bbb30b-ad09-4c8f-9499-3bdd3e4ba880",
   "metadata": {},
   "outputs": [
    {
     "data": {
      "text/plain": [
       "userId       0\n",
       "itemId       0\n",
       "rating       0\n",
       "timestamp    0\n",
       "dtype: int64"
      ]
     },
     "execution_count": 6,
     "metadata": {},
     "output_type": "execute_result"
    }
   ],
   "source": [
    "df.isnull().sum()"
   ]
  },
  {
   "cell_type": "code",
   "execution_count": 2,
   "id": "0a2ac485-d50a-4b9a-ae44-693d3b87314b",
   "metadata": {
    "scrolled": true
   },
   "outputs": [
    {
     "data": {
      "text/html": [
       "<div>\n",
       "<style scoped>\n",
       "    .dataframe tbody tr th:only-of-type {\n",
       "        vertical-align: middle;\n",
       "    }\n",
       "\n",
       "    .dataframe tbody tr th {\n",
       "        vertical-align: top;\n",
       "    }\n",
       "\n",
       "    .dataframe thead th {\n",
       "        text-align: right;\n",
       "    }\n",
       "</style>\n",
       "<table border=\"1\" class=\"dataframe\">\n",
       "  <thead>\n",
       "    <tr style=\"text-align: right;\">\n",
       "      <th></th>\n",
       "      <th>rating</th>\n",
       "      <th>timestamp</th>\n",
       "    </tr>\n",
       "  </thead>\n",
       "  <tbody>\n",
       "    <tr>\n",
       "      <th>count</th>\n",
       "      <td>694252.000000</td>\n",
       "      <td>6.942520e+05</td>\n",
       "    </tr>\n",
       "    <tr>\n",
       "      <th>mean</th>\n",
       "      <td>3.960892</td>\n",
       "      <td>1.554762e+09</td>\n",
       "    </tr>\n",
       "    <tr>\n",
       "      <th>std</th>\n",
       "      <td>1.493950</td>\n",
       "      <td>8.004244e+07</td>\n",
       "    </tr>\n",
       "    <tr>\n",
       "      <th>min</th>\n",
       "      <td>1.000000</td>\n",
       "      <td>9.730527e+08</td>\n",
       "    </tr>\n",
       "    <tr>\n",
       "      <th>25%</th>\n",
       "      <td>3.000000</td>\n",
       "      <td>1.501612e+09</td>\n",
       "    </tr>\n",
       "    <tr>\n",
       "      <th>50%</th>\n",
       "      <td>5.000000</td>\n",
       "      <td>1.571538e+09</td>\n",
       "    </tr>\n",
       "    <tr>\n",
       "      <th>75%</th>\n",
       "      <td>5.000000</td>\n",
       "      <td>1.614636e+09</td>\n",
       "    </tr>\n",
       "    <tr>\n",
       "      <th>max</th>\n",
       "      <td>5.000000</td>\n",
       "      <td>1.694220e+09</td>\n",
       "    </tr>\n",
       "  </tbody>\n",
       "</table>\n",
       "</div>"
      ],
      "text/plain": [
       "              rating     timestamp\n",
       "count  694252.000000  6.942520e+05\n",
       "mean        3.960892  1.554762e+09\n",
       "std         1.493950  8.004244e+07\n",
       "min         1.000000  9.730527e+08\n",
       "25%         3.000000  1.501612e+09\n",
       "50%         5.000000  1.571538e+09\n",
       "75%         5.000000  1.614636e+09\n",
       "max         5.000000  1.694220e+09"
      ]
     },
     "execution_count": 2,
     "metadata": {},
     "output_type": "execute_result"
    }
   ],
   "source": [
    "df.describe()\n"
   ]
  },
  {
   "cell_type": "code",
   "execution_count": 3,
   "id": "ed8d7400-aca0-4200-b0d7-9f336a71b53c",
   "metadata": {
    "scrolled": true
   },
   "outputs": [
    {
     "name": "stdout",
     "output_type": "stream",
     "text": [
      "<class 'pandas.core.frame.DataFrame'>\n",
      "RangeIndex: 694252 entries, 0 to 694251\n",
      "Data columns (total 4 columns):\n",
      " #   Column     Non-Null Count   Dtype  \n",
      "---  ------     --------------   -----  \n",
      " 0   userId     694252 non-null  object \n",
      " 1   itemId     694252 non-null  object \n",
      " 2   rating     694252 non-null  float64\n",
      " 3   timestamp  694252 non-null  float64\n",
      "dtypes: float64(2), object(2)\n",
      "memory usage: 21.2+ MB\n"
     ]
    }
   ],
   "source": [
    "df.info()\n"
   ]
  },
  {
   "cell_type": "code",
   "execution_count": 4,
   "id": "80bd1591-a8ce-4761-a18a-69cb22d79b8c",
   "metadata": {},
   "outputs": [
    {
     "data": {
      "image/png": "[encoded data removed]",
      "text/plain": [
       "<Figure size 640x480 with 1 Axes>"
      ]
     },
     "metadata": {},
     "output_type": "display_data"
    }
   ],
   "source": [
    "import matplotlib.pyplot as plt \n",
    "df['rating'].hist(bins=5)\n",
    "plt.title('Distribution of Ratings')\n",
    "plt.xlabel('Rating')\n",
    "plt.ylabel('Count')\n",
    "plt.show()"
   ]
  },
  {
   "cell_type": "code",
   "execution_count": 6,
   "id": "e7d34720-92b7-46c8-b8a2-986061256ea6",
   "metadata": {},
   "outputs": [
    {
     "name": "stdout",
     "output_type": "stream",
     "text": [
      "Top 10 users by number of ratings:\n",
      "userId\n",
      "AG73BVBKUOH22USSFJA5ZWL7AKXA      165\n",
      "AEZP6Z2C5AVQDZAJECQYZWQRNG3Q      146\n",
      "AEMP3A7IKW37CMWFXNKXWW6HGJHA_1    115\n",
      "AGZUJTI7A3JFKB4FP5JOH6NVAJIQ_1     87\n",
      "AFDYIK3FNPY2JFBQYUWC6GSBMIRQ_2     83\n",
      "AFXF3EGQTQDXMRLDWFU7UBFQZB7Q       81\n",
      "AEJU3Z6HDAERETMYI2CXBQVPPDFA       79\n",
      "AHY2TURQPNIDXZGH2CMQLZ343YMQ       69\n",
      "AEOK4TQIKGO23SJKZ6PW4FETNNDA_1     68\n",
      "AEAXAJACFMXIAAH4WOHRMXPSZWFA       65\n",
      "Name: count, dtype: int64\n",
      "\\nSummary of user rating counts:\n",
      "count    631986.000000\n",
      "mean          1.098524\n",
      "std           0.728334\n",
      "min           1.000000\n",
      "25%           1.000000\n",
      "50%           1.000000\n",
      "75%           1.000000\n",
      "max         165.000000\n",
      "Name: count, dtype: float64\n"
     ]
    }
   ],
   "source": [
    "user_rating_counts = df['userId'].value_counts()\n",
    "# Display the top 10 users by number of ratings\n",
    "print(\"Top 10 users by number of ratings:\")\n",
    "print(user_rating_counts.head(10))\n",
    "# Get a statistical summary of the user rating counts\n",
    "print(\"\\\\nSummary of user rating counts:\")\n",
    "print(user_rating_counts.describe())\n"
   ]
  },
  {
   "cell_type": "code",
   "execution_count": 12,
   "id": "24f3b62d-80af-4e2b-85cb-8d9445729c30",
   "metadata": {},
   "outputs": [
    {
     "name": "stdout",
     "output_type": "stream",
     "text": [
      "Top 10 items by number of ratings:\n",
      "itemId\n",
      "B007IAE5WY    34\n",
      "B00EEN2HCS    25\n",
      "B012Q9NGE4    20\n",
      "B0092MCQZ4    20\n",
      "B00R1TAN7I    18\n",
      "B07TK2PSJF    18\n",
      "B0107QYW14    18\n",
      "B0171UQIUW    17\n",
      "B07C533XCW    17\n",
      "B01DUYNJL4    14\n",
      "Name: count, dtype: int64\n",
      "\\nSummary of item rating counts:\n",
      "count    7218.000000\n",
      "mean        1.383624\n",
      "std         1.202092\n",
      "min         1.000000\n",
      "25%         1.000000\n",
      "50%         1.000000\n",
      "75%         1.000000\n",
      "max        34.000000\n",
      "Name: count, dtype: float64\n"
     ]
    }
   ],
   "source": [
    "item_rating_counts = df['itemId'].value_counts()\n",
    "# Display the top 10 items by number of ratings\n",
    "print(\"Top 10 items by number of ratings:\")\n",
    "print(item_rating_counts.head(10))\n",
    "# Get a statistical summary of the item rating counts\n",
    "print(\"\\\\nSummary of item rating counts:\")\n",
    "print(item_rating_counts.describe())\n"
   ]
  },
  {
   "cell_type": "code",
   "execution_count": 10,
   "id": "f7d65e58-7a9b-403a-9c22-025641fa57ce",
   "metadata": {},
   "outputs": [
    {
     "name": "stdout",
     "output_type": "stream",
     "text": [
      "count    631986.000000\n",
      "mean          1.098524\n",
      "std           0.728334\n",
      "min           1.000000\n",
      "25%           1.000000\n",
      "50%           1.000000\n",
      "75%           1.000000\n",
      "max         165.000000\n",
      "Name: count, dtype: float64\n"
     ]
    }
   ],
   "source": [
    "user_rating_counts = df['userId'].value_counts()\n",
    "print(user_rating_counts.describe())"
   ]
  },
  {
   "cell_type": "code",
   "execution_count": 11,
   "id": "39af726b-f543-43d6-bb33-75000efbac07",
   "metadata": {},
   "outputs": [
    {
     "name": "stdout",
     "output_type": "stream",
     "text": [
      "count    115709.000000\n",
      "mean          5.999983\n",
      "std          23.169142\n",
      "min           1.000000\n",
      "25%           1.000000\n",
      "50%           2.000000\n",
      "75%           4.000000\n",
      "max        1952.000000\n",
      "Name: count, dtype: float64\n"
     ]
    }
   ],
   "source": [
    "item_rating_counts = df['itemId'].value_counts()\n",
    "print(item_rating_counts.describe())\n",
    "\n"
   ]
  },
  {
   "cell_type": "code",
   "execution_count": 16,
   "id": "dd15286e-cfdb-4dd2-be98-f8fa6db697ef",
   "metadata": {},
   "outputs": [
    {
     "name": "stdout",
     "output_type": "stream",
     "text": [
      "Original df shape: (694252, 4)\n",
      "shape after filtering users: (14008, 4)\n",
      "shape after filtereing items: (5345, 4)\n"
     ]
    }
   ],
   "source": [
    "min_user_ratings=5\n",
    "user_counts=df['userId'].value_counts()\n",
    "active_users=user_counts[user_counts >= min_user_ratings].index\n",
    "df_filtered_users=df[df['userId'].isin(active_users)]\n",
    "\n",
    "min_item_ratings=5\n",
    "item_counts=df_filtered_users['itemId'].value_counts()\n",
    "popular_items=item_counts[item_counts >= min_item_ratings].index\n",
    "df_final=df_filtered_users[df_filtered_users['itemId'].isin(popular_items)]\n",
    "print(\"Original df shape:\", df.shape)\n",
    "print(\"shape after filtering users:\", df_filtered_users.shape)\n",
    "print(\"shape after filtereing items:\", df_final.shape)"
   ]
  },
  {
   "cell_type": "code",
   "execution_count": null,
   "id": "072d617a-1ffc-4d81-9f38-b1ba1d371651",
   "metadata": {},
   "outputs": [],
   "source": []
  }
 ],
 "metadata": {
  "kernelspec": {
   "display_name": "Python 3 (ipykernel)",
   "language": "python",
   "name": "python3"
  },
  "language_info": {
   "codemirror_mode": {
    "name": "ipython",
    "version": 3
   },
   "file_extension": ".py",
   "mimetype": "text/x-python",
   "name": "python",
   "nbconvert_exporter": "python",
   "pygments_lexer": "ipython3",
   "version": "3.12.3"
  }
 },
 "nbformat": 4,
 "nbformat_minor": 5
}
